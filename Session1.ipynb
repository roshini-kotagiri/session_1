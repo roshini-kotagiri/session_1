{
  "nbformat": 4,
  "nbformat_minor": 0,
  "metadata": {
    "colab": {
      "provenance": []
    },
    "kernelspec": {
      "name": "python3",
      "display_name": "Python 3"
    },
    "language_info": {
      "name": "python"
    }
  },
  "cells": [
    {
      "cell_type": "markdown",
      "source": [
        "Data Types in python\n",
        "\n",
        "\n",
        "Mutable and Immutable\n",
        "\n",
        "\n",
        "Mutable: Can be changed after creation (e.g., lists, dictionaries, sets).\n",
        "\n",
        "\n",
        "Immutable: Cannot be changed after creation (e.g., tuples, strings, integers)."
      ],
      "metadata": {
        "id": "o1woUsEDLda_"
      }
    },
    {
      "cell_type": "code",
      "execution_count": 4,
      "metadata": {
        "id": "HcaxeneY28Th"
      },
      "outputs": [],
      "source": [
        "s = \"Hello World\" # string\n",
        "i = 50  # integer\n",
        "f = 60.5  # float\n",
        "c = 3j  # complex 3i+j\n",
        "l = [\"ai\", \"is\", \"everywhere\"]  # list\n",
        "t = (\"learn\", \"ai\", \"here\")  # tuple\n",
        "d = {\"name\": \"Suraj\", \"age\": 24} # dict\n",
        "s1 = {\"this\", \"is\", \"is\", \"set\"} # set\n",
        "B = True  # bool\n",
        "b = b\"ai\" # binary"
      ]
    },
    {
      "cell_type": "markdown",
      "source": [],
      "metadata": {
        "id": "LJzilfacrBQ-"
      }
    },
    {
      "cell_type": "code",
      "source": [
        "print(s1)\n",
        "print(type(s1))"
      ],
      "metadata": {
        "colab": {
          "base_uri": "https://localhost:8080/"
        },
        "id": "__MeIgAFLhu6",
        "outputId": "a225a9ec-8976-4214-e2ad-63ef79a488b4"
      },
      "execution_count": 9,
      "outputs": [
        {
          "output_type": "stream",
          "name": "stdout",
          "text": [
            "{'this', 'is', 'set'}\n",
            "<class 'set'>\n"
          ]
        }
      ]
    },
    {
      "cell_type": "code",
      "source": [
        "a = int(\"5\")  # String to int\n",
        "b = str(10)  # Int to string\n",
        "c = float(3)  # Int to float\n",
        "d = list(\"hello\")  # String to list\n",
        "print(d)\n",
        "print(type(d))"
      ],
      "metadata": {
        "colab": {
          "base_uri": "https://localhost:8080/"
        },
        "id": "ob3JbEv5N9ke",
        "outputId": "02224860-870e-44a0-d21b-46261b47dab6"
      },
      "execution_count": 13,
      "outputs": [
        {
          "output_type": "stream",
          "name": "stdout",
          "text": [
            "['h', 'e', 'l', 'l', 'o']\n",
            "<class 'list'>\n"
          ]
        }
      ]
    },
    {
      "cell_type": "markdown",
      "source": [
        "Taking input from user"
      ],
      "metadata": {
        "id": "BSiZsGaUL24p"
      }
    },
    {
      "cell_type": "code",
      "source": [
        "val = int(input(\"Enter your value: \") )\n",
        "print(val)\n",
        "print(type(val))"
      ],
      "metadata": {
        "colab": {
          "base_uri": "https://localhost:8080/"
        },
        "id": "R7DbWDY1Lwqq",
        "outputId": "d010066f-0220-4dee-b0cd-0deda8b0d143"
      },
      "execution_count": 16,
      "outputs": [
        {
          "output_type": "stream",
          "name": "stdout",
          "text": [
            "Enter your value: 5\n",
            "5\n",
            "<class 'int'>\n"
          ]
        }
      ]
    },
    {
      "cell_type": "markdown",
      "source": [
        "Arithematic operators"
      ],
      "metadata": {
        "id": "e18PSknhMDnD"
      }
    },
    {
      "cell_type": "code",
      "source": [
        "a = 9\n",
        "b = 4\n",
        "add = a + b\n",
        "sub = a - b\n",
        "mul = a * b\n",
        "mod = a % b\n",
        "p = a ** b # 2**2 = 4\n",
        "print(add)\n",
        "print(sub)\n",
        "print(mul)\n",
        "print(mod)\n",
        "print(p)"
      ],
      "metadata": {
        "colab": {
          "base_uri": "https://localhost:8080/"
        },
        "id": "ZyZmQtXzL-mk",
        "outputId": "78951a07-6b8a-4d3e-8f2f-f34d213d1f83"
      },
      "execution_count": 17,
      "outputs": [
        {
          "output_type": "stream",
          "name": "stdout",
          "text": [
            "13\n",
            "5\n",
            "36\n",
            "1\n",
            "6561\n"
          ]
        }
      ]
    },
    {
      "cell_type": "markdown",
      "source": [
        "And , or , not"
      ],
      "metadata": {
        "id": "39txyevSMPFt"
      }
    },
    {
      "cell_type": "code",
      "source": [
        "a = True\n",
        "b = False\n",
        "print(a and b)\n",
        "print(a or b)\n",
        "print(not a)"
      ],
      "metadata": {
        "colab": {
          "base_uri": "https://localhost:8080/"
        },
        "id": "aYY4QYZKMS7c",
        "outputId": "423c4aa6-84e2-498b-cde9-2b37de704cff"
      },
      "execution_count": 22,
      "outputs": [
        {
          "output_type": "stream",
          "name": "stdout",
          "text": [
            "False\n",
            "True\n",
            "False\n"
          ]
        }
      ]
    },
    {
      "cell_type": "markdown",
      "source": [
        "if else"
      ],
      "metadata": {
        "id": "wgFJD_P0MXdS"
      }
    },
    {
      "cell_type": "code",
      "source": [
        "i = 10\n",
        "if (i == 5):\n",
        "    print(\"i is 10\")\n",
        "elif(i%2 == 0):#else if\n",
        "    print(\"i is even\")\n",
        "else:\n",
        "    print(\"nothing\")"
      ],
      "metadata": {
        "colab": {
          "base_uri": "https://localhost:8080/"
        },
        "id": "-tpzlf5GMY3o",
        "outputId": "0feb2271-e765-4704-e29b-85c10b9efd8c"
      },
      "execution_count": 26,
      "outputs": [
        {
          "output_type": "stream",
          "name": "stdout",
          "text": [
            "i is even\n"
          ]
        }
      ]
    },
    {
      "cell_type": "markdown",
      "source": [
        "Loops"
      ],
      "metadata": {
        "id": "eEKd8fUWMj5j"
      }
    },
    {
      "cell_type": "code",
      "source": [
        "# for, while\n",
        "for i in range(0, 10, 2):\n",
        "    print(i)"
      ],
      "metadata": {
        "colab": {
          "base_uri": "https://localhost:8080/"
        },
        "id": "ZIf-Jz2RMlKF",
        "outputId": "96ea6b54-a967-4614-a7cd-b1c1fa340807"
      },
      "execution_count": 31,
      "outputs": [
        {
          "output_type": "stream",
          "name": "stdout",
          "text": [
            "0\n",
            "2\n",
            "4\n",
            "6\n",
            "8\n"
          ]
        }
      ]
    },
    {
      "cell_type": "code",
      "source": [
        "i = 0\n",
        "while i < 10:\n",
        "    print(i, end=\"/ \")\n",
        "    i += 3"
      ],
      "metadata": {
        "colab": {
          "base_uri": "https://localhost:8080/"
        },
        "id": "drOt5tOIl_nP",
        "outputId": "2118330c-47eb-4471-d45f-f06879c52694"
      },
      "execution_count": 41,
      "outputs": [
        {
          "output_type": "stream",
          "name": "stdout",
          "text": [
            "0/ 3/ 6/ 9/ "
          ]
        }
      ]
    },
    {
      "cell_type": "markdown",
      "source": [
        "list"
      ],
      "metadata": {
        "id": "_D3Q87vhMloG"
      }
    },
    {
      "cell_type": "code",
      "source": [
        "l = [1, \"food\", 5.3, True]"
      ],
      "metadata": {
        "id": "sXBI2tYrmscy"
      },
      "execution_count": 46,
      "outputs": []
    },
    {
      "cell_type": "code",
      "source": [
        "type(l)"
      ],
      "metadata": {
        "colab": {
          "base_uri": "https://localhost:8080/"
        },
        "id": "LYciVI33myNM",
        "outputId": "538fd715-543d-4bc1-fdd8-d22f5747f575"
      },
      "execution_count": 47,
      "outputs": [
        {
          "output_type": "execute_result",
          "data": {
            "text/plain": [
              "list"
            ]
          },
          "metadata": {},
          "execution_count": 47
        }
      ]
    },
    {
      "cell_type": "code",
      "source": [
        "l = [1]*5\n",
        "print(l)"
      ],
      "metadata": {
        "colab": {
          "base_uri": "https://localhost:8080/"
        },
        "id": "9y6hse3nm54_",
        "outputId": "a91b9d71-1d06-42f2-edf6-891031bd061e"
      },
      "execution_count": 48,
      "outputs": [
        {
          "output_type": "stream",
          "name": "stdout",
          "text": [
            "[1, 1, 1, 1, 1]\n"
          ]
        }
      ]
    },
    {
      "cell_type": "code",
      "source": [
        "l1 = [1,2,3,4,5]\n",
        "l1.append(6)\n",
        "print(l1)\n",
        "\n",
        "l1.insert(2, 8)\n",
        "print(l1)\n",
        "\n",
        "l1.extend(l)\n",
        "print(l1)"
      ],
      "metadata": {
        "colab": {
          "base_uri": "https://localhost:8080/"
        },
        "id": "fCQV_B0LnBiB",
        "outputId": "da6b8a25-4654-426c-b212-e3acd772ff81"
      },
      "execution_count": 53,
      "outputs": [
        {
          "output_type": "stream",
          "name": "stdout",
          "text": [
            "[1, 2, 3, 4, 5, 6]\n",
            "[1, 2, 8, 3, 4, 5, 6]\n",
            "[1, 2, 8, 3, 4, 5, 6, 1, 1, 1, 1, 1]\n"
          ]
        }
      ]
    },
    {
      "cell_type": "code",
      "source": [
        "\n",
        "l = [1,2,3,4,5]\n",
        "l[1] = 12\n",
        "print(l)"
      ],
      "metadata": {
        "colab": {
          "base_uri": "https://localhost:8080/"
        },
        "id": "TDu84KL5njyo",
        "outputId": "0e318b55-ef9a-4754-adb6-b1d0b0ad433b"
      },
      "execution_count": 68,
      "outputs": [
        {
          "output_type": "stream",
          "name": "stdout",
          "text": [
            "[1, 12, 3, 4, 5]\n"
          ]
        }
      ]
    },
    {
      "cell_type": "markdown",
      "source": [
        "tuple"
      ],
      "metadata": {
        "id": "81-e8oC0M0ig"
      }
    },
    {
      "cell_type": "code",
      "source": [
        "t = (1,2,3,4,5)\n",
        "type(t)"
      ],
      "metadata": {
        "colab": {
          "base_uri": "https://localhost:8080/"
        },
        "id": "JiGd6RDeoh2s",
        "outputId": "d8ebda1e-2291-43a1-8b1a-63e3b7b24904"
      },
      "execution_count": 65,
      "outputs": [
        {
          "output_type": "execute_result",
          "data": {
            "text/plain": [
              "tuple"
            ]
          },
          "metadata": {},
          "execution_count": 65
        }
      ]
    },
    {
      "cell_type": "code",
      "source": [
        "t[1] = 12"
      ],
      "metadata": {
        "colab": {
          "base_uri": "https://localhost:8080/",
          "height": 141
        },
        "id": "UTziha24onLI",
        "outputId": "5ba7aae4-aad2-4ccf-9477-417009d56c63"
      },
      "execution_count": 66,
      "outputs": [
        {
          "output_type": "error",
          "ename": "TypeError",
          "evalue": "'tuple' object does not support item assignment",
          "traceback": [
            "\u001b[0;31m---------------------------------------------------------------------------\u001b[0m",
            "\u001b[0;31mTypeError\u001b[0m                                 Traceback (most recent call last)",
            "\u001b[0;32m<ipython-input-66-a27f649e2fed>\u001b[0m in \u001b[0;36m<cell line: 0>\u001b[0;34m()\u001b[0m\n\u001b[0;32m----> 1\u001b[0;31m \u001b[0mt\u001b[0m\u001b[0;34m[\u001b[0m\u001b[0;36m1\u001b[0m\u001b[0;34m]\u001b[0m \u001b[0;34m=\u001b[0m \u001b[0;36m12\u001b[0m\u001b[0;34m\u001b[0m\u001b[0;34m\u001b[0m\u001b[0m\n\u001b[0m",
            "\u001b[0;31mTypeError\u001b[0m: 'tuple' object does not support item assignment"
          ]
        }
      ]
    },
    {
      "cell_type": "markdown",
      "source": [
        "dict\n",
        "\n"
      ],
      "metadata": {
        "id": "Gfd48iQdM1wD"
      }
    },
    {
      "cell_type": "code",
      "source": [
        "d = dict()"
      ],
      "metadata": {
        "id": "t-8NleN1oe4V"
      },
      "execution_count": 69,
      "outputs": []
    },
    {
      "cell_type": "code",
      "source": [
        "d = {}"
      ],
      "metadata": {
        "id": "G7hQXvufpdnp"
      },
      "execution_count": 70,
      "outputs": []
    },
    {
      "cell_type": "code",
      "source": [
        "d = {\"roshini\": [1,2,3], \"one\" : 1, \"two\": 2}"
      ],
      "metadata": {
        "id": "N0rNcmJ9pfS2"
      },
      "execution_count": 77,
      "outputs": []
    },
    {
      "cell_type": "code",
      "source": [
        "print(d)"
      ],
      "metadata": {
        "colab": {
          "base_uri": "https://localhost:8080/"
        },
        "id": "NUuv8_iSppMc",
        "outputId": "c02ef5e9-69ec-41cf-c434-b6ddf3e09c6d"
      },
      "execution_count": 72,
      "outputs": [
        {
          "output_type": "stream",
          "name": "stdout",
          "text": [
            "{'roshini': 0, 'one': 1, 'two': 2}\n"
          ]
        }
      ]
    },
    {
      "cell_type": "code",
      "source": [
        "d[\"roshini\"]"
      ],
      "metadata": {
        "colab": {
          "base_uri": "https://localhost:8080/"
        },
        "id": "-EDXADWcprn3",
        "outputId": "410be03b-d332-4ab5-b292-83a20a1aace9"
      },
      "execution_count": 78,
      "outputs": [
        {
          "output_type": "execute_result",
          "data": {
            "text/plain": [
              "[1, 2, 3]"
            ]
          },
          "metadata": {},
          "execution_count": 78
        }
      ]
    },
    {
      "cell_type": "code",
      "source": [
        "d[\"one\"]"
      ],
      "metadata": {
        "colab": {
          "base_uri": "https://localhost:8080/"
        },
        "id": "LI9NfxtxptwV",
        "outputId": "71b70ad8-b8c9-44f7-ffdc-abf77d61fb44"
      },
      "execution_count": 74,
      "outputs": [
        {
          "output_type": "execute_result",
          "data": {
            "text/plain": [
              "1"
            ]
          },
          "metadata": {},
          "execution_count": 74
        }
      ]
    },
    {
      "cell_type": "code",
      "source": [
        "d.keys()"
      ],
      "metadata": {
        "colab": {
          "base_uri": "https://localhost:8080/"
        },
        "id": "ENVuBXtwpvbI",
        "outputId": "6abac133-f547-4dab-8b41-dd35475b7d73"
      },
      "execution_count": 75,
      "outputs": [
        {
          "output_type": "execute_result",
          "data": {
            "text/plain": [
              "dict_keys(['roshini', 'one', 'two'])"
            ]
          },
          "metadata": {},
          "execution_count": 75
        }
      ]
    },
    {
      "cell_type": "code",
      "source": [
        "d.values()"
      ],
      "metadata": {
        "colab": {
          "base_uri": "https://localhost:8080/"
        },
        "id": "Asrg3Jhopyrg",
        "outputId": "25a7e553-23ab-4065-df40-df32fc97306a"
      },
      "execution_count": 76,
      "outputs": [
        {
          "output_type": "execute_result",
          "data": {
            "text/plain": [
              "dict_values([0, 1, 2])"
            ]
          },
          "metadata": {},
          "execution_count": 76
        }
      ]
    },
    {
      "cell_type": "markdown",
      "source": [
        "strings"
      ],
      "metadata": {
        "id": "_UORNerOOoWq"
      }
    },
    {
      "cell_type": "markdown",
      "source": [
        "# Functions"
      ],
      "metadata": {
        "id": "YXxsLD5UOU2T"
      }
    },
    {
      "cell_type": "markdown",
      "source": [
        "![image.png](data:image/png;base64,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)"
      ],
      "metadata": {
        "id": "CFU3aV8pOPaY"
      }
    },
    {
      "cell_type": "code",
      "source": [
        "def even_odd(x):\n",
        "  if x % 2 == 0:\n",
        "    print(\"even\")\n",
        "  else:\n",
        "    print(\"odd\")\n",
        "\n",
        "even_odd(2)"
      ],
      "metadata": {
        "colab": {
          "base_uri": "https://localhost:8080/"
        },
        "id": "GdKkMtbnqFFt",
        "outputId": "bf59f3a2-2dc3-48af-aaba-0d2a762cd427"
      },
      "execution_count": 79,
      "outputs": [
        {
          "output_type": "stream",
          "name": "stdout",
          "text": [
            "even\n"
          ]
        }
      ]
    },
    {
      "cell_type": "code",
      "source": [
        "import numpy as np\n",
        "\n",
        "arr = np.array([1, 2, 3, 4])\n",
        "print(type(arr))\n",
        "print(arr.ndim)"
      ],
      "metadata": {
        "colab": {
          "base_uri": "https://localhost:8080/"
        },
        "id": "ZdDFChG4ObDX",
        "outputId": "3f17a753-105d-4c01-b28d-5c5ac0f56b4d"
      },
      "execution_count": 81,
      "outputs": [
        {
          "output_type": "stream",
          "name": "stdout",
          "text": [
            "<class 'numpy.ndarray'>\n",
            "1\n"
          ]
        }
      ]
    },
    {
      "cell_type": "code",
      "source": [
        "import pandas as pd\n",
        "\n",
        "data = {\"Name\": [\"Alice\", \"Bob\"], \"Age\": [25, 30]}\n",
        "df = pd.DataFrame(data)\n",
        "print(df)"
      ],
      "metadata": {
        "id": "bi9gsx4HO6Yk"
      },
      "execution_count": null,
      "outputs": []
    }
  ]
}